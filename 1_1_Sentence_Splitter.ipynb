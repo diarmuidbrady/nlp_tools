{
 "cells": [
  {
   "cell_type": "markdown",
   "metadata": {},
   "source": [
    "# Sentence Boundary Detection\n",
    "\n",
    "> This module contains a function called `sentence_splitter` which takes in a string of text and splits the text at every full stop and prints out each sentence on a new line."
   ]
  },
  {
   "cell_type": "code",
   "execution_count": null,
   "metadata": {},
   "outputs": [],
   "source": [
    "#| default_exp sentence_splitter"
   ]
  },
  {
   "cell_type": "code",
   "execution_count": null,
   "metadata": {},
   "outputs": [],
   "source": [
    "#| hide\n",
    "from nbdev.showdoc import *\n",
    "from fastcore.test import *"
   ]
  },
  {
   "cell_type": "code",
   "execution_count": null,
   "metadata": {},
   "outputs": [],
   "source": [
    "#| export\n",
    "import re"
   ]
  },
  {
   "cell_type": "code",
   "execution_count": null,
   "metadata": {},
   "outputs": [],
   "source": [
    "#| export\n",
    "def sentence_splitter(text:str # The input text to be split\n",
    "                     ):\n",
    "    '''\n",
    "    This sentence splitter takes in a string of text 's' and \n",
    "    returns a split version where every sentence is printed on a new line\n",
    "    '''\n",
    "    abbr = ['[MDJ]r', 'Hon', 'Esq', 'Prof', 'Mrs','Ms']\n",
    "    pattern = re.compile(r\"(?<!{}.)(?<=[.!?]) \".format('.)(?<!'.join(abbr)))\n",
    "    sentences = re.split(pattern, text)\n",
    "    return '\\n'.join(sentences)"
   ]
  },
  {
   "cell_type": "code",
   "execution_count": null,
   "metadata": {},
   "outputs": [
    {
     "data": {
      "text/markdown": [
       "---\n",
       "\n",
       "### sentence_splitter\n",
       "\n",
       ">      sentence_splitter (text:str)\n",
       "\n",
       "This sentence splitter takes in a string of text 's' and \n",
       "returns a split version where every sentence is printed on a new line\n",
       "\n",
       "|    | **Type** | **Details** |\n",
       "| -- | -------- | ----------- |\n",
       "| text | str | The input text to be split |"
      ],
      "text/plain": [
       "---\n",
       "\n",
       "### sentence_splitter\n",
       "\n",
       ">      sentence_splitter (text:str)\n",
       "\n",
       "This sentence splitter takes in a string of text 's' and \n",
       "returns a split version where every sentence is printed on a new line\n",
       "\n",
       "|    | **Type** | **Details** |\n",
       "| -- | -------- | ----------- |\n",
       "| text | str | The input text to be split |"
      ]
     },
     "execution_count": null,
     "metadata": {},
     "output_type": "execute_result"
    }
   ],
   "source": [
    "show_doc(sentence_splitter)"
   ]
  },
  {
   "cell_type": "markdown",
   "metadata": {},
   "source": [
    "As an example let's say we have the sentence:\n",
    "> The difference for them can be significant. A 10-year loan of €50,000 from you at zero interest would involve monthly payments of €417, or €5,000 a year. With An Post’s market-leading rate, the friend would be paying €525.45 a month, or over €6,300 a year and over €13,000 interest over the life of the loan.\n",
    "\n",
    "Using sentence splitter we get:"
   ]
  },
  {
   "cell_type": "code",
   "execution_count": null,
   "metadata": {},
   "outputs": [
    {
     "data": {
      "text/plain": [
       "'The difference for them can be significant.\\nA 10-year loan of €50,000 from you at zero interest would involve monthly payments of €417, or €5,000 a year.\\nWith An Post’s market-leading rate, the friend would be paying €525.45 a month, or over €6,300 a year and over €13,000 interest over the life of the loan.'"
      ]
     },
     "execution_count": null,
     "metadata": {},
     "output_type": "execute_result"
    }
   ],
   "source": [
    "text = '''The difference for them can be significant. A 10-year loan of €50,000 from you at zero interest would involve monthly payments of €417, or €5,000 a year. With An Post’s market-leading rate, the friend would be paying €525.45 a month, or over €6,300 a year and over €13,000 interest over the life of the loan.'''\n",
    "sentence_splitter(text)"
   ]
  },
  {
   "cell_type": "code",
   "execution_count": null,
   "metadata": {},
   "outputs": [],
   "source": [
    "#| hide\n",
    "text = '''Mr. Hudson and Ms. Johnson want to buy a house costing €20.4M. They are having trouble with money so they will ask Henry Jr. who is not Dr. Hudson whose wife is Mrs. Hudson. I think they are using Henry's money.'''\n",
    "result = '''Mr. Hudson and Ms. Johnson want to buy a house costing €20.4M.\n",
    "They are having trouble with money so they will ask Henry Jr. who is not Dr. Hudson whose wife is Mrs. Hudson.\n",
    "I think they are using Henry's money.'''\n",
    "test_eq(sentence_splitter(text), result)"
   ]
  },
  {
   "cell_type": "code",
   "execution_count": null,
   "metadata": {},
   "outputs": [],
   "source": [
    "#| hide\n",
    "import nbdev; nbdev.nbdev_export()"
   ]
  }
 ],
 "metadata": {
  "kernelspec": {
   "display_name": "python3",
   "language": "python",
   "name": "python3"
  }
 },
 "nbformat": 4,
 "nbformat_minor": 4
}
