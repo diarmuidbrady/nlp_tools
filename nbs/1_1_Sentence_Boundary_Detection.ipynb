{
 "cells": [
  {
   "cell_type": "markdown",
   "metadata": {},
   "source": [
    "# Sentence Boundary Detection\n",
    "\n",
    "> This module contains a function called `sentence_splitter` which takes in a string of text and splits the text at every full stop and prints out each sentence on a new line."
   ]
  },
  {
   "cell_type": "code",
   "execution_count": 1,
   "metadata": {
    "execution": {
     "iopub.execute_input": "2023-02-17T16:39:43.007838Z",
     "iopub.status.busy": "2023-02-17T16:39:43.007838Z",
     "iopub.status.idle": "2023-02-17T16:39:43.030779Z",
     "shell.execute_reply": "2023-02-17T16:39:43.028984Z",
     "shell.execute_reply.started": "2023-02-17T16:39:43.007838Z"
    },
    "tags": []
   },
   "outputs": [],
   "source": [
    "#| default_exp sentence_boundary_detection"
   ]
  },
  {
   "cell_type": "code",
   "execution_count": 2,
   "metadata": {
    "execution": {
     "iopub.execute_input": "2023-02-17T16:39:43.044913Z",
     "iopub.status.busy": "2023-02-17T16:39:43.043797Z",
     "iopub.status.idle": "2023-02-17T16:39:43.872679Z",
     "shell.execute_reply": "2023-02-17T16:39:43.870664Z",
     "shell.execute_reply.started": "2023-02-17T16:39:43.044795Z"
    },
    "tags": []
   },
   "outputs": [],
   "source": [
    "#| hide\n",
    "from nbdev.showdoc import *\n",
    "from fastcore.test import *"
   ]
  },
  {
   "cell_type": "code",
   "execution_count": 3,
   "metadata": {
    "execution": {
     "iopub.execute_input": "2023-02-17T16:39:43.881442Z",
     "iopub.status.busy": "2023-02-17T16:39:43.880683Z",
     "iopub.status.idle": "2023-02-17T16:39:43.887682Z",
     "shell.execute_reply": "2023-02-17T16:39:43.885683Z",
     "shell.execute_reply.started": "2023-02-17T16:39:43.881442Z"
    },
    "tags": []
   },
   "outputs": [],
   "source": [
    "#| export\n",
    "import re"
   ]
  },
  {
   "cell_type": "code",
   "execution_count": 4,
   "metadata": {
    "execution": {
     "iopub.execute_input": "2023-02-17T16:39:43.891682Z",
     "iopub.status.busy": "2023-02-17T16:39:43.890680Z",
     "iopub.status.idle": "2023-02-17T16:39:43.903440Z",
     "shell.execute_reply": "2023-02-17T16:39:43.900575Z",
     "shell.execute_reply.started": "2023-02-17T16:39:43.891682Z"
    },
    "tags": []
   },
   "outputs": [],
   "source": [
    "#| export\n",
    "def sentence_splitter(text:str # The input text to be split\n",
    "                     ):\n",
    "    '''\n",
    "    This sentence splitter takes in a string of text 's' and \n",
    "    returns a split version where every sentence is printed on a new line\n",
    "    '''\n",
    "    abbr = ['[MDJ]r', 'Hon', 'Esq', 'Prof', 'Mrs','Ms']\n",
    "    pattern = re.compile(r\"(?<!{}.)(?<=[.!?]) \".format('.)(?<!'.join(abbr)))\n",
    "    sentences = re.split(pattern, text)\n",
    "    return '\\n'.join(sentences)"
   ]
  },
  {
   "cell_type": "code",
   "execution_count": 5,
   "metadata": {
    "execution": {
     "iopub.execute_input": "2023-02-17T16:39:43.906204Z",
     "iopub.status.busy": "2023-02-17T16:39:43.905107Z",
     "iopub.status.idle": "2023-02-17T16:39:44.087785Z",
     "shell.execute_reply": "2023-02-17T16:39:44.085794Z",
     "shell.execute_reply.started": "2023-02-17T16:39:43.906204Z"
    },
    "tags": []
   },
   "outputs": [
    {
     "data": {
      "text/markdown": [
       "---\n",
       "\n",
       "### sentence_splitter\n",
       "\n",
       ">      sentence_splitter (text:str)\n",
       "\n",
       "This sentence splitter takes in a string of text 's' and \n",
       "returns a split version where every sentence is printed on a new line\n",
       "\n",
       "|    | **Type** | **Details** |\n",
       "| -- | -------- | ----------- |\n",
       "| text | str | The input text to be split |"
      ],
      "text/plain": [
       "---\n",
       "\n",
       "### sentence_splitter\n",
       "\n",
       ">      sentence_splitter (text:str)\n",
       "\n",
       "This sentence splitter takes in a string of text 's' and \n",
       "returns a split version where every sentence is printed on a new line\n",
       "\n",
       "|    | **Type** | **Details** |\n",
       "| -- | -------- | ----------- |\n",
       "| text | str | The input text to be split |"
      ]
     },
     "execution_count": 5,
     "metadata": {},
     "output_type": "execute_result"
    }
   ],
   "source": [
    "show_doc(sentence_splitter)"
   ]
  },
  {
   "cell_type": "markdown",
   "metadata": {},
   "source": [
    "As an example let's say we have the sentence:\n",
    "> The difference for them can be significant. A 10-year loan of €50,000 from you at zero interest would involve monthly payments of €417, or €5,000 a year. With An Post’s market-leading rate, the friend would be paying €525.45 a month, or over €6,300 a year and over €13,000 interest over the life of the loan.\n",
    "\n",
    "Using sentence splitter we get:"
   ]
  },
  {
   "cell_type": "code",
   "execution_count": 6,
   "metadata": {
    "execution": {
     "iopub.execute_input": "2023-02-17T16:39:44.091786Z",
     "iopub.status.busy": "2023-02-17T16:39:44.090961Z",
     "iopub.status.idle": "2023-02-17T16:39:44.103898Z",
     "shell.execute_reply": "2023-02-17T16:39:44.101968Z",
     "shell.execute_reply.started": "2023-02-17T16:39:44.091786Z"
    },
    "tags": []
   },
   "outputs": [
    {
     "data": {
      "text/plain": [
       "'The difference for them can be significant.\\nA 10-year loan of €50,000 from you at zero interest would involve monthly payments of €417, or €5,000 a year.\\nWith An Post’s market-leading rate, the friend would be paying €525.45 a month, or over €6,300 a year and over €13,000 interest over the life of the loan.'"
      ]
     },
     "execution_count": 6,
     "metadata": {},
     "output_type": "execute_result"
    }
   ],
   "source": [
    "text = '''The difference for them can be significant. A 10-year loan of €50,000 from you at zero interest would involve monthly payments of €417, or €5,000 a year. With An Post’s market-leading rate, the friend would be paying €525.45 a month, or over €6,300 a year and over €13,000 interest over the life of the loan.'''\n",
    "sentence_splitter(text)"
   ]
  },
  {
   "cell_type": "code",
   "execution_count": 7,
   "metadata": {
    "execution": {
     "iopub.execute_input": "2023-02-17T16:39:44.106823Z",
     "iopub.status.busy": "2023-02-17T16:39:44.105831Z",
     "iopub.status.idle": "2023-02-17T16:39:44.119806Z",
     "shell.execute_reply": "2023-02-17T16:39:44.117861Z",
     "shell.execute_reply.started": "2023-02-17T16:39:44.106823Z"
    },
    "tags": []
   },
   "outputs": [],
   "source": [
    "#| hide\n",
    "text = '''Mr. Hudson and Ms. Johnson want to buy a house costing €20.4M. They are having trouble with money so they will ask Henry Jr. who is not Dr. Hudson whose wife is Mrs. Hudson. I think they are using Henry's money.'''\n",
    "result = '''Mr. Hudson and Ms. Johnson want to buy a house costing €20.4M.\n",
    "They are having trouble with money so they will ask Henry Jr. who is not Dr. Hudson whose wife is Mrs. Hudson.\n",
    "I think they are using Henry's money.'''\n",
    "test_eq(sentence_splitter(text), result)"
   ]
  },
  {
   "cell_type": "code",
   "execution_count": 8,
   "metadata": {
    "execution": {
     "iopub.execute_input": "2023-02-17T16:39:44.123809Z",
     "iopub.status.busy": "2023-02-17T16:39:44.122800Z",
     "iopub.status.idle": "2023-02-17T16:39:44.230405Z",
     "shell.execute_reply": "2023-02-17T16:39:44.226380Z",
     "shell.execute_reply.started": "2023-02-17T16:39:44.122800Z"
    },
    "tags": []
   },
   "outputs": [],
   "source": [
    "#| hide\n",
    "import nbdev; nbdev.nbdev_export()"
   ]
  }
 ],
 "metadata": {
  "kernelspec": {
   "display_name": "Python 3",
   "language": "python",
   "name": "python3"
  },
  "language_info": {
   "codemirror_mode": {
    "name": "ipython",
    "version": 3
   },
   "file_extension": ".py",
   "mimetype": "text/x-python",
   "name": "python",
   "nbconvert_exporter": "python",
   "pygments_lexer": "ipython3",
   "version": "3.9.0"
  }
 },
 "nbformat": 4,
 "nbformat_minor": 4
}
