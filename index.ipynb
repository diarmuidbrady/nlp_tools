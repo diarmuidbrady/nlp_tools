{
 "cells": [
  {
   "cell_type": "code",
   "execution_count": null,
   "metadata": {},
   "outputs": [],
   "source": [
    "#| hide\n",
    "from nlp.sentence_splitter import *\n",
    "from nlp.bigram import *\n",
    "from nlp.naive_bayes import *\n",
    "from nbdev.showdoc import *"
   ]
  },
  {
   "cell_type": "markdown",
   "metadata": {},
   "source": [
    "# CA4023 Natural Language Technologies Assignments\n",
    "This repository is dedicated for the module CA4023 Natural Language Technologies. To evaluate Assignment 1, please visit the directory `Assignment 1` and likewise for `Assignment 2`. All code and information necessary for evaluation can be found within those folders."
   ]
  },
  {
   "cell_type": "markdown",
   "metadata": {},
   "source": [
    "# NLP Library\n",
    "> Python Library containing a number of modules including a sentence splitter, bigram language model and a naive bayes sentiment classifier.\n",
    "\n"
   ]
  },
  {
   "cell_type": "code",
   "execution_count": null,
   "metadata": {},
   "outputs": [
    {
     "data": {
      "text/markdown": [
       "---\n",
       "\n",
       "### sentence_splitter\n",
       "\n",
       ">      sentence_splitter (text:str)\n",
       "\n",
       "This sentence splitter takes in a string of text 's' and \n",
       "returns a split version where every sentence is printed on a new line\n",
       "\n",
       "|    | **Type** | **Details** |\n",
       "| -- | -------- | ----------- |\n",
       "| text | str | The input text to be split |"
      ],
      "text/plain": [
       "---\n",
       "\n",
       "### sentence_splitter\n",
       "\n",
       ">      sentence_splitter (text:str)\n",
       "\n",
       "This sentence splitter takes in a string of text 's' and \n",
       "returns a split version where every sentence is printed on a new line\n",
       "\n",
       "|    | **Type** | **Details** |\n",
       "| -- | -------- | ----------- |\n",
       "| text | str | The input text to be split |"
      ]
     },
     "execution_count": null,
     "metadata": {},
     "output_type": "execute_result"
    }
   ],
   "source": [
    "show_doc(sentence_splitter)"
   ]
  },
  {
   "cell_type": "code",
   "execution_count": null,
   "metadata": {},
   "outputs": [
    {
     "data": {
      "text/markdown": [
       "---\n",
       "\n",
       "### BigramModel\n",
       "\n",
       ">      BigramModel (corpus:list)\n",
       "\n",
       "The BigramModel class takes a corpus as input. \n",
       "The corpus is a list of sentence strings.\n",
       "Each word or token is separated by spaces.\n",
       "\n",
       "|    | **Type** | **Details** |\n",
       "| -- | -------- | ----------- |\n",
       "| corpus | list | This is the training corpus for input |"
      ],
      "text/plain": [
       "---\n",
       "\n",
       "### BigramModel\n",
       "\n",
       ">      BigramModel (corpus:list)\n",
       "\n",
       "The BigramModel class takes a corpus as input. \n",
       "The corpus is a list of sentence strings.\n",
       "Each word or token is separated by spaces.\n",
       "\n",
       "|    | **Type** | **Details** |\n",
       "| -- | -------- | ----------- |\n",
       "| corpus | list | This is the training corpus for input |"
      ]
     },
     "execution_count": null,
     "metadata": {},
     "output_type": "execute_result"
    }
   ],
   "source": [
    "show_doc(BigramModel)"
   ]
  },
  {
   "cell_type": "code",
   "execution_count": null,
   "metadata": {},
   "outputs": [
    {
     "data": {
      "text/markdown": [
       "---\n",
       "\n",
       "### NaiveBayesSentimentClassifier\n",
       "\n",
       ">      NaiveBayesSentimentClassifier ()\n",
       "\n",
       "A text sentiment classifier trained to classify imdb reviews by implementing the Naive Bayes algorithm using Laplace Smoothing.\n",
       "There are no initialize parameters but a number of key functions including:\n",
       "- `train`\n",
       "- `predict`\n",
       "- `evaluate`"
      ],
      "text/plain": [
       "---\n",
       "\n",
       "### NaiveBayesSentimentClassifier\n",
       "\n",
       ">      NaiveBayesSentimentClassifier ()\n",
       "\n",
       "A text sentiment classifier trained to classify imdb reviews by implementing the Naive Bayes algorithm using Laplace Smoothing.\n",
       "There are no initialize parameters but a number of key functions including:\n",
       "- `train`\n",
       "- `predict`\n",
       "- `evaluate`"
      ]
     },
     "execution_count": null,
     "metadata": {},
     "output_type": "execute_result"
    }
   ],
   "source": [
    "show_doc(NaiveBayesSentimentClassifier)"
   ]
  },
  {
   "cell_type": "code",
   "execution_count": null,
   "metadata": {},
   "outputs": [
    {
     "data": {
      "text/markdown": [
       "---\n",
       "\n",
       "### read_reviews\n",
       "\n",
       ">      read_reviews (path:str)\n",
       "\n",
       "Given a path, reads the data from the two subdirectories 'pos' and 'neg'.\n",
       "\n",
       "Parameters:\n",
       "    - path (str): The path to the folder containing the subdirectories 'pos' and 'neg'.\n",
       "\n",
       "Returns:\n",
       "- A list of reviews as strings\n",
       "\n",
       "|    | **Type** | **Details** |\n",
       "| -- | -------- | ----------- |\n",
       "| path | str | The path to the folder containing the subdirectories 'pos' and 'neg'. |\n",
       "| **Returns** | **typing.List[str]** |  |"
      ],
      "text/plain": [
       "---\n",
       "\n",
       "### read_reviews\n",
       "\n",
       ">      read_reviews (path:str)\n",
       "\n",
       "Given a path, reads the data from the two subdirectories 'pos' and 'neg'.\n",
       "\n",
       "Parameters:\n",
       "    - path (str): The path to the folder containing the subdirectories 'pos' and 'neg'.\n",
       "\n",
       "Returns:\n",
       "- A list of reviews as strings\n",
       "\n",
       "|    | **Type** | **Details** |\n",
       "| -- | -------- | ----------- |\n",
       "| path | str | The path to the folder containing the subdirectories 'pos' and 'neg'. |\n",
       "| **Returns** | **typing.List[str]** |  |"
      ]
     },
     "execution_count": null,
     "metadata": {},
     "output_type": "execute_result"
    }
   ],
   "source": [
    "show_doc(read_reviews)"
   ]
  },
  {
   "cell_type": "code",
   "execution_count": null,
   "metadata": {},
   "outputs": [
    {
     "data": {
      "text/markdown": [
       "---\n",
       "\n",
       "### create_dataframe\n",
       "\n",
       ">      create_dataframe (path:str)\n",
       "\n",
       "Creates a pandas dataframe with two columns, Review (this is the review from the text file)\n",
       "and Label (this contains 'positive' or 'negative' if it came from the 'pos' or 'neg' subdirectory respectively).\n",
       "\n",
       "Parameters:\n",
       "    - folder_path (str): The path to the folder containing the subdirectories 'pos' and 'neg'.\n",
       "\n",
       "Returns:\n",
       "- A pandas dataframe with two columns, Review and Label.\n",
       "\n",
       "|    | **Type** | **Details** |\n",
       "| -- | -------- | ----------- |\n",
       "| path | str | The path to the folder containing the subdirectories 'pos' and 'neg'. |\n",
       "| **Returns** | **DataFrame** |  |"
      ],
      "text/plain": [
       "---\n",
       "\n",
       "### create_dataframe\n",
       "\n",
       ">      create_dataframe (path:str)\n",
       "\n",
       "Creates a pandas dataframe with two columns, Review (this is the review from the text file)\n",
       "and Label (this contains 'positive' or 'negative' if it came from the 'pos' or 'neg' subdirectory respectively).\n",
       "\n",
       "Parameters:\n",
       "    - folder_path (str): The path to the folder containing the subdirectories 'pos' and 'neg'.\n",
       "\n",
       "Returns:\n",
       "- A pandas dataframe with two columns, Review and Label.\n",
       "\n",
       "|    | **Type** | **Details** |\n",
       "| -- | -------- | ----------- |\n",
       "| path | str | The path to the folder containing the subdirectories 'pos' and 'neg'. |\n",
       "| **Returns** | **DataFrame** |  |"
      ]
     },
     "execution_count": null,
     "metadata": {},
     "output_type": "execute_result"
    }
   ],
   "source": [
    "show_doc(create_dataframe)"
   ]
  },
  {
   "cell_type": "code",
   "execution_count": null,
   "metadata": {},
   "outputs": [
    {
     "data": {
      "text/markdown": [
       "---\n",
       "\n",
       "### clean_review\n",
       "\n",
       ">      clean_review (review:str)\n",
       "\n",
       "Cleans a review by converting text to lowercase, removing numbers and punctuation, stop words (specified in the function) and extra whitespace.\n",
       "\n",
       "Parameters:\n",
       "    - review (str): The review to be cleaned.\n",
       "\n",
       "Returns:\n",
       "- A list of clean words.\n",
       "\n",
       "|    | **Type** | **Details** |\n",
       "| -- | -------- | ----------- |\n",
       "| review | str | The review to be cleaned. |\n",
       "| **Returns** | **typing.List[str]** |  |"
      ],
      "text/plain": [
       "---\n",
       "\n",
       "### clean_review\n",
       "\n",
       ">      clean_review (review:str)\n",
       "\n",
       "Cleans a review by converting text to lowercase, removing numbers and punctuation, stop words (specified in the function) and extra whitespace.\n",
       "\n",
       "Parameters:\n",
       "    - review (str): The review to be cleaned.\n",
       "\n",
       "Returns:\n",
       "- A list of clean words.\n",
       "\n",
       "|    | **Type** | **Details** |\n",
       "| -- | -------- | ----------- |\n",
       "| review | str | The review to be cleaned. |\n",
       "| **Returns** | **typing.List[str]** |  |"
      ]
     },
     "execution_count": null,
     "metadata": {},
     "output_type": "execute_result"
    }
   ],
   "source": [
    "show_doc(clean_review)"
   ]
  },
  {
   "cell_type": "code",
   "execution_count": null,
   "metadata": {},
   "outputs": [
    {
     "data": {
      "text/markdown": [
       "---\n",
       "\n",
       "### read_test_file\n",
       "\n",
       ">      read_test_file (file_path:str)\n",
       "\n",
       "Reads a file given a path to the file where every line in the file is one review, \n",
       "transforms the file and returns it as a pandas series.\n",
       "\n",
       "Parameters:\n",
       "    - file_path (str): Path to the file to read\n",
       "\n",
       "Returns:\n",
       "    - pandas.Series: A pandas series where each element is a review from the file\n",
       "\n",
       "|    | **Type** | **Details** |\n",
       "| -- | -------- | ----------- |\n",
       "| file_path | str | Path to the file to read |\n",
       "| **Returns** | **Series** |  |"
      ],
      "text/plain": [
       "---\n",
       "\n",
       "### read_test_file\n",
       "\n",
       ">      read_test_file (file_path:str)\n",
       "\n",
       "Reads a file given a path to the file where every line in the file is one review, \n",
       "transforms the file and returns it as a pandas series.\n",
       "\n",
       "Parameters:\n",
       "    - file_path (str): Path to the file to read\n",
       "\n",
       "Returns:\n",
       "    - pandas.Series: A pandas series where each element is a review from the file\n",
       "\n",
       "|    | **Type** | **Details** |\n",
       "| -- | -------- | ----------- |\n",
       "| file_path | str | Path to the file to read |\n",
       "| **Returns** | **Series** |  |"
      ]
     },
     "execution_count": null,
     "metadata": {},
     "output_type": "execute_result"
    }
   ],
   "source": [
    "show_doc(read_test_file)"
   ]
  },
  {
   "cell_type": "code",
   "execution_count": null,
   "metadata": {},
   "outputs": [],
   "source": [
    "for doc in ['read_reviews', 'create_dataframe', 'clean_review', 'read_test_file', 'NaiveBayesSentimentClassifier',\n",
    "           'run_naive_bayes', 'run_test_file']:\n",
    "    show_doc(doc)"
   ]
  },
  {
   "cell_type": "code",
   "execution_count": null,
   "metadata": {},
   "outputs": [
    {
     "data": {
      "text/markdown": [
       "---\n",
       "\n",
       "### run_naive_bayes\n",
       "\n",
       ">      run_naive_bayes (train_file, test_file)\n",
       "\n",
       "Trains a sentiment classifier and predicts on test data.\n",
       "\n",
       "Parameters:\n",
       "- train_file (str): path to the train file\n",
       "- test_file (str): path to the test file\n",
       "\n",
       "Returns:\n",
       "- `NaiveBayesSentimentClassifier model` that has predicted the test data"
      ],
      "text/plain": [
       "---\n",
       "\n",
       "### run_naive_bayes\n",
       "\n",
       ">      run_naive_bayes (train_file, test_file)\n",
       "\n",
       "Trains a sentiment classifier and predicts on test data.\n",
       "\n",
       "Parameters:\n",
       "- train_file (str): path to the train file\n",
       "- test_file (str): path to the test file\n",
       "\n",
       "Returns:\n",
       "- `NaiveBayesSentimentClassifier model` that has predicted the test data"
      ]
     },
     "execution_count": null,
     "metadata": {},
     "output_type": "execute_result"
    }
   ],
   "source": [
    "show_doc(run_naive_bayes)"
   ]
  },
  {
   "cell_type": "code",
   "execution_count": null,
   "metadata": {},
   "outputs": [
    {
     "data": {
      "text/markdown": [
       "---\n",
       "\n",
       "### run_test_file\n",
       "\n",
       ">      run_test_file (test_file)\n",
       "\n",
       "Reads in and predicts a test file of line separated reviews.\n",
       "\n",
       "Parameters:\n",
       "- test_file (str): path to the test file\n",
       "\n",
       "Returns:\n",
       "- `NaiveBayesSentimentClassifier model` that has predicted the test data"
      ],
      "text/plain": [
       "---\n",
       "\n",
       "### run_test_file\n",
       "\n",
       ">      run_test_file (test_file)\n",
       "\n",
       "Reads in and predicts a test file of line separated reviews.\n",
       "\n",
       "Parameters:\n",
       "- test_file (str): path to the test file\n",
       "\n",
       "Returns:\n",
       "- `NaiveBayesSentimentClassifier model` that has predicted the test data"
      ]
     },
     "execution_count": null,
     "metadata": {},
     "output_type": "execute_result"
    }
   ],
   "source": [
    "show_doc(run_test_file)"
   ]
  },
  {
   "cell_type": "markdown",
   "metadata": {},
   "source": [
    "Fill me in please! Don't forget code examples:"
   ]
  }
 ],
 "metadata": {
  "kernelspec": {
   "display_name": "python3",
   "language": "python",
   "name": "python3"
  }
 },
 "nbformat": 4,
 "nbformat_minor": 4
}
